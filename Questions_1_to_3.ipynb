{
 "cells": [
  {
   "cell_type": "markdown",
   "metadata": {},
   "source": [
    "Problem Statement 1:\n",
    "You survey households in your area to find the average rent they are paying. Find the\n",
    "standard deviation from the following data:\n",
    "$1550, $1700, $900, $850, $1000, $950.\n",
    "\n",
    "Problem Statement 2:\n",
    "Find the variance for the following set of data representing trees in California (heights in\n",
    "feet):\n",
    "3, 21, 98, 203, 17, 9\n",
    "\n",
    "Problem Statement 3:\n",
    "In a class on 100 students, 80 students passed in all subjects, 10 failed in one subject, 7\n",
    "failed in two subjects and 3 failed in three subjects. Find the probability distribution of\n",
    "the variable for number of subjects a student from the given class has failed in."
   ]
  },
  {
   "cell_type": "markdown",
   "metadata": {},
   "source": [
    "### Problem Statement 1:\n",
    "### You survey households in your area to find the average rent they are paying. Find the standard deviation from the following data:  1550,1550, 1700,  900,900, 850,  1000,1000, 950."
   ]
  },
  {
   "cell_type": "code",
   "execution_count": 1,
   "metadata": {},
   "outputs": [],
   "source": [
    "import numpy as np"
   ]
  },
  {
   "cell_type": "code",
   "execution_count": 2,
   "metadata": {},
   "outputs": [],
   "source": [
    "#list the numbers into an array\n",
    "rent_sample=np.array([1550,1550, 1700, 900,900, 850, 1000,1000, 950])"
   ]
  },
  {
   "cell_type": "code",
   "execution_count": 3,
   "metadata": {},
   "outputs": [
    {
     "name": "stdout",
     "output_type": "stream",
     "text": [
      "Average rent paid by households is: 1155.56\n",
      "Standard Deviation of rent paid by households is: +/- 320.11\n"
     ]
    }
   ],
   "source": [
    "#Average Rent Paid\n",
    "print(\"Average rent paid by households is: %0.2f\" %np.mean(rent_sample))\n",
    "#standard deviation\n",
    "print(\"Standard Deviation of rent paid by households is: +/- %0.2f\"%np.std(rent_sample))"
   ]
  },
  {
   "cell_type": "markdown",
   "metadata": {},
   "source": [
    "### Problem Statement 2: \n",
    "### Find the variance for the following set of data representing trees in California (heights in feet): 3, 21, 98, 203, 17, 9"
   ]
  },
  {
   "cell_type": "code",
   "execution_count": 4,
   "metadata": {},
   "outputs": [],
   "source": [
    "#list the collected sample\n",
    "tree_height_sample=np.array([3, 21, 98, 203, 17, 9])"
   ]
  },
  {
   "cell_type": "code",
   "execution_count": 5,
   "metadata": {},
   "outputs": [
    {
     "name": "stdout",
     "output_type": "stream",
     "text": [
      "Variance of the tree height sample collected is : 5183.25\n"
     ]
    }
   ],
   "source": [
    "#determine variance\n",
    "print(\"Variance of the tree height sample collected is :\",np.var(tree_height_sample))"
   ]
  },
  {
   "cell_type": "markdown",
   "metadata": {},
   "source": [
    "### Problem Statement 3:\n",
    "### In a class on 100 students, 80 students passed in all subjects, 10 failed in one subject, 7 failed in two subjects and 3 failed in three subjects. Find the probability distribution of the variable for number of subjects a student from the given class has failed in."
   ]
  },
  {
   "cell_type": "code",
   "execution_count": 6,
   "metadata": {},
   "outputs": [
    {
     "name": "stdout",
     "output_type": "stream",
     "text": [
      "For a random student probablity of failing in number of subject X is below\n",
      "P(X=0)= 0.8\n",
      "P(X=1)= 0.1\n",
      "P(X=2)= 0.07\n",
      "P(X=3)= 0.03\n",
      "\n",
      "\n",
      "PDF should looks like below\n",
      "X \t 0 \t 1 \t 2 \t 3\n",
      "P(X) \t 0.80 \t 0.10 \t 0.07 \t 0.03\n"
     ]
    }
   ],
   "source": [
    "#initialise the number of students and failure count among them\n",
    "std_tot=100\n",
    "std_fail_0=80 #passed all subjects\n",
    "std_fail_1=10 #failed in 1 sub\n",
    "std_fail_2=7 #failed in 2 sub\n",
    "std_fail_3=3 #failed in 3 sub\n",
    "\n",
    "#probablity of failiong none, 1, 2, 3 subjects respectively\n",
    "p_fail_0=std_fail_0/std_tot\n",
    "p_fail_1=std_fail_1/std_tot\n",
    "p_fail_2=std_fail_2/std_tot\n",
    "p_fail_3=std_fail_3/std_tot\n",
    "\n",
    "print(\"For a random student probablity of failing in number of subject X is below\")\n",
    "print(\"P(X=0)=\",p_fail_0)\n",
    "print(\"P(X=1)=\",p_fail_1)\n",
    "print(\"P(X=2)=\",p_fail_2)\n",
    "print(\"P(X=3)=\",p_fail_3)\n",
    "print(\"\\n\")\n",
    "print(\"PDF should looks like below\")\n",
    "print(\"X \\t 0 \\t 1 \\t 2 \\t 3\")\n",
    "print(\"P(X) \\t %0.2f \\t %0.2f \\t %0.2f \\t %0.2f\" %(p_fail_0,p_fail_1,p_fail_2,p_fail_3))"
   ]
  },
  {
   "cell_type": "code",
   "execution_count": null,
   "metadata": {},
   "outputs": [],
   "source": []
  }
 ],
 "metadata": {
  "kernelspec": {
   "display_name": "Python 3",
   "language": "python",
   "name": "python3"
  },
  "language_info": {
   "codemirror_mode": {
    "name": "ipython",
    "version": 3
   },
   "file_extension": ".py",
   "mimetype": "text/x-python",
   "name": "python",
   "nbconvert_exporter": "python",
   "pygments_lexer": "ipython3",
   "version": "3.6.4"
  }
 },
 "nbformat": 4,
 "nbformat_minor": 2
}
